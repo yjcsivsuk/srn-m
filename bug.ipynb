{
 "cells": [
  {
   "cell_type": "markdown",
   "source": [
    "# 代码报错\n",
    "1. neural_network/conv_net.py中LeNet5模型的count_correct方法报错\n",
    "2. SRNet/functions.py中ImageFunction方法中的_apply_conv方法中报错"
   ],
   "metadata": {
    "collapsed": false
   },
   "id": "abad430dc421a312"
  },
  {
   "cell_type": "markdown",
   "source": [
    "# 注意事项\n",
    "1. SRNet/parameters.py中，对于CGP模型的levels_back参数的设定，不要设置为None，否则会导致在factory.py初始化CGP模型时计算上下bounds报错"
   ],
   "metadata": {
    "collapsed": false
   },
   "id": "80f7bdeb96fd5b13"
  }
 ],
 "metadata": {
  "kernelspec": {
   "display_name": "Python 3",
   "language": "python",
   "name": "python3"
  },
  "language_info": {
   "codemirror_mode": {
    "name": "ipython",
    "version": 2
   },
   "file_extension": ".py",
   "mimetype": "text/x-python",
   "name": "python",
   "nbconvert_exporter": "python",
   "pygments_lexer": "ipython2",
   "version": "2.7.6"
  }
 },
 "nbformat": 4,
 "nbformat_minor": 5
}
