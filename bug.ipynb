{
 "cells": [
  {
   "cell_type": "markdown",
   "source": [
    "# 代码报错\n",
    "1. neural_network/conv_net.py中，LeNet5模型的count_correct方法报错\n",
    "2. SRNet/functions.py中，ImageFunction方法中的_apply_conv方法中报错\n",
    "3. test/test_model.py中，test_diff_mlp测试时，输出对输入求梯度的时候报错\n",
    "4. test/test_net.py中，test_ModuleEQLNet测试时，求eql的表达式报错。具体错误发生在SRNet/sr_layers.py中的expr方法中\n",
    "5. train_pde.py中，pretrain_pde和train_pde方法都有问题，epoch不增加，无法正常训练"
   ],
   "metadata": {
    "collapsed": false
   },
   "id": "abad430dc421a312"
  },
  {
   "cell_type": "markdown",
   "source": [
    "# 注意事项\n",
    "1. SRNet/parameters.py中，对于CGP模型的levels_back参数的设定，不要设置为None，否则会导致在factory.py初始化CGP模型时计算上下bounds报错\n",
    "2. SRNet/usr_model.py中，PDEEQL模型中，pde_model属性现在是EQLmodel，之后如果要进行替换的话，估计也是改这部分的代码\n",
    "3. test/test.py中，在test_grad方法测试计算梯度时，一定不能加上with torch.no_grad()，否则梯度无法计算"
   ],
   "metadata": {
    "collapsed": false
   },
   "id": "80f7bdeb96fd5b13"
  },
  {
   "cell_type": "markdown",
   "source": [
    "# 问题\n",
    "1. SRNet/usr_model.py中，LinearProj类中的forward操作，不知道为什么要进行维度的变换\n",
    "2. SRNet/usr_model.py中，ImageEQL模型没看懂，而且看到师兄的训练结果中还用到了\n",
    "3. SRNet/usr_model.py中，DiffCGPModel模型的参数是CGPParameter，我猜目的是使CGP可以输入偏微分项\n",
    "4. test/test_model.py中，test_diff_cgp测试通过CGP产生的表达式中，有u(x0,x1,x2)，不知道代表的是什么运算符号\n",
    "5. finetune_eql.py不知道如何运行\n",
    "6. autopum算法进行模块划分之后，代码在哪体现划分后的神经网络"
   ],
   "metadata": {
    "collapsed": false
   },
   "id": "9f1ba373aaa9b24b"
  }
 ],
 "metadata": {
  "kernelspec": {
   "display_name": "Python 3",
   "language": "python",
   "name": "python3"
  },
  "language_info": {
   "codemirror_mode": {
    "name": "ipython",
    "version": 2
   },
   "file_extension": ".py",
   "mimetype": "text/x-python",
   "name": "python",
   "nbconvert_exporter": "python",
   "pygments_lexer": "ipython2",
   "version": "2.7.6"
  }
 },
 "nbformat": 4,
 "nbformat_minor": 5
}
