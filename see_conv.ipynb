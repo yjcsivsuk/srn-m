{
 "cells": [
  {
   "cell_type": "markdown",
   "source": [
    "查看卷积层的输出图像"
   ],
   "metadata": {
    "collapsed": false
   },
   "id": "e50a1b76eb9b831f"
  },
  {
   "cell_type": "code",
   "execution_count": 1,
   "id": "initial_id",
   "metadata": {
    "collapsed": true,
    "ExecuteTime": {
     "end_time": "2024-05-27T05:59:22.714841Z",
     "start_time": "2024-05-27T05:59:21.891810Z"
    }
   },
   "source": [
    "import sys\n",
    "sys.path.append(\"/Users/lihaoyang/Projects/srn-m\")\n",
    "\n",
    "import os\n",
    "import torch\n",
    "import torch.nn.functional as F\n",
    "from neural_network import neural_networks\n",
    "from load_data import load_mnist_data\n",
    "from SRNet import srnets\n",
    "from utils import load_img_srnet, show_img"
   ],
   "outputs": []
  },
  {
   "cell_type": "markdown",
   "source": [
    "从mnist数据集中找4个例子"
   ],
   "metadata": {
    "collapsed": false
   },
   "id": "b37962f0523a5210"
  },
  {
   "cell_type": "code",
   "source": [
    "device = torch.device(\"cpu\")\n",
    "conv_path = \"./output/LeNet/LeNet\"\n",
    "\n",
    "net = neural_networks[\"lenet\"](10)\n",
    "net.load_state_dict(torch.load(conv_path, map_location=device))\n",
    "net = net.to(device)\n",
    "train_set, val_set = load_mnist_data(\"./data/img\")\n",
    "imgs = torch.cat([\n",
    "    train_set[i][0] for i in [1999, 213, 3456, 92]\n",
    "], dim=0)\n",
    "print(imgs.shape)\n",
    "show_img(imgs, 2, 2)"
   ],
   "metadata": {
    "collapsed": false,
    "ExecuteTime": {
     "end_time": "2024-05-27T05:59:22.824990Z",
     "start_time": "2024-05-27T05:59:22.715818Z"
    }
   },
   "id": "c9178d81484df569",
   "execution_count": 2,
   "outputs": []
  },
  {
   "cell_type": "markdown",
   "source": [
    "看数字0第一层卷积和第二层卷积输出卷积图像"
   ],
   "metadata": {
    "collapsed": false
   },
   "id": "949bc0d92ee4dc44"
  },
  {
   "cell_type": "code",
   "source": [
    "cuda_imgs = imgs.to(device).unsqueeze(dim=1)\n",
    "show_idx = 0\n",
    "\n",
    "net.eval()\n",
    "with torch.no_grad():\n",
    "    outputs = net(cuda_imgs, module_out=True)\n",
    "print(f\"outputs length:{len(outputs)}\")\n",
    "\n",
    "show_pics = [o[show_idx] for o in outputs[:-1]]\n",
    "vmin, vmax = 0.0, 4.0\n",
    "show_img(imgs[show_idx: show_idx + 1], 1, 1, \"Input\", vmin=vmin, vmax=vmax)\n",
    "show_img(outputs[0][show_idx], 2, 3, \"Conv-1\", vmin=vmin, vmax=vmax)\n",
    "show_img(outputs[1][show_idx], 4, 4, \"Conv-2\", vmin=vmin, vmax=vmax)"
   ],
   "metadata": {
    "collapsed": false,
    "ExecuteTime": {
     "end_time": "2024-05-27T05:59:23.141258Z",
     "start_time": "2024-05-27T05:59:22.825902Z"
    }
   },
   "id": "b15494c8ce6f7e9e",
   "execution_count": 3,
   "outputs": []
  },
  {
   "cell_type": "markdown",
   "source": [
    "查看用EQL输出的卷积图像"
   ],
   "metadata": {
    "collapsed": false
   },
   "id": "20a981b9c12c3045"
  },
  {
   "cell_type": "code",
   "source": [
    "srnet_dir = \"./output/MEQL_net/LeNet/bs512-adam1e-3-warm0.1-T1-hce1-okl0.2-glFalse-sgTrue\"\n",
    "srnet = load_img_srnet(\"MEQL_net\", net, srnet_dir, device=device)\n",
    "srnet = srnet.to(device)\n",
    "srnet.eval()\n",
    "\n",
    "with torch.no_grad():\n",
    "    predicts = srnet(cuda_imgs)\n",
    "print(len(predicts))\n",
    "\n",
    "for i, p in enumerate(predicts):\n",
    "    print(p.shape)\n",
    "    predicts[i] = predicts[i].cpu()\n",
    "\n",
    "show_idx = 0\n",
    "vmin, vmax = 0.0, 4.0\n",
    "print(F.mse_loss(predicts[0][show_idx], outputs[0][show_idx].cpu()))\n",
    "show_img(imgs[show_idx: show_idx + 1], 1, 1, \"Input\", vmin=vmin, vmax=vmax)\n",
    "show_img(predicts[0][show_idx], 2, 3, \"Conv-1\", vmin=vmin, vmax=vmax)\n",
    "show_img(predicts[1][show_idx], 4, 4, \"Conv-2\", vmin=vmin, vmax=vmax)"
   ],
   "metadata": {
    "collapsed": false,
    "ExecuteTime": {
     "end_time": "2024-05-27T05:59:23.499162Z",
     "start_time": "2024-05-27T05:59:23.142864Z"
    }
   },
   "id": "519bf9b0927e2e34",
   "execution_count": 4,
   "outputs": []
  },
  {
   "cell_type": "code",
   "source": [
    "srnet_dir = \"./output/MEQL_net/LeNet/bs512-adam1e-3-warm0.1-T1-hmse1-okl1-glFalse-sgTrue\"\n",
    "srnet = load_img_srnet(\"MEQL_net\", net, srnet_dir, device=device)\n",
    "srnet = srnet.to(device)\n",
    "srnet.eval()\n",
    "\n",
    "with torch.no_grad():\n",
    "    predicts = srnet(cuda_imgs)\n",
    "print(len(predicts))\n",
    "\n",
    "for i, p in enumerate(predicts):\n",
    "    print(p.shape)\n",
    "    predicts[i] = predicts[i].cpu()\n",
    "\n",
    "show_idx = 0\n",
    "vmin, vmax = 0.0, 4.0\n",
    "print(F.mse_loss(predicts[0][show_idx], outputs[0][show_idx].cpu()))\n",
    "show_img(imgs[show_idx: show_idx + 1], 1, 1, \"Input\", vmin=vmin, vmax=vmax)\n",
    "show_img(predicts[0][show_idx], 2, 3, \"Conv-1\", vmin=vmin, vmax=vmax)\n",
    "show_img(predicts[1][show_idx], 4, 4, \"Conv-2\", vmin=vmin, vmax=vmax)"
   ],
   "metadata": {
    "collapsed": false,
    "ExecuteTime": {
     "end_time": "2024-05-27T05:59:23.900045Z",
     "start_time": "2024-05-27T05:59:23.499907Z"
    }
   },
   "id": "69ca27a225d1cce0",
   "execution_count": 5,
   "outputs": []
  },
  {
   "cell_type": "code",
   "source": [],
   "metadata": {
    "collapsed": false
   },
   "id": "4c59cc93179be92c",
   "execution_count": null,
   "outputs": []
  }
 ],
 "metadata": {
  "kernelspec": {
   "display_name": "Python 3",
   "language": "python",
   "name": "python3"
  },
  "language_info": {
   "codemirror_mode": {
    "name": "ipython",
    "version": 2
   },
   "file_extension": ".py",
   "mimetype": "text/x-python",
   "name": "python",
   "nbconvert_exporter": "python",
   "pygments_lexer": "ipython2",
   "version": "2.7.6"
  }
 },
 "nbformat": 4,
 "nbformat_minor": 5
}
