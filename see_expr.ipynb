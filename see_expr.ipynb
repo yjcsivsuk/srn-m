{
 "cells": [
  {
   "cell_type": "markdown",
   "source": [
    "查看使用SRNet-Modular得出的表达式"
   ],
   "metadata": {
    "collapsed": false
   },
   "id": "188a5c2bc106f291"
  },
  {
   "cell_type": "code",
   "outputs": [
    {
     "name": "stdout",
     "output_type": "stream",
     "text": [
      "Dataset kkk0 Each Layer Expression:['x*sin(Abs(x)^0.5)', 'Abs((hat{h}^1)_5)^0.5', '(hat{h}^2)_0/Abs((hat{h}^2)_2)']\n",
      "Dataset kkk0 Final Expression:2.6 - 3.6*Abs(0.86*x*sin(Abs(x)^0.5) - 0.5)^0.5\n",
      "Dataset feynman0 Each Layer Expression:['Abs(x0)^0.25', '1.18', '(hat{h}^2)_3/Abs((hat{h}^2)_5^2 - ((hat{h}^2)_0 - (hat{h}^2)_6)/Abs(sin((hat{h}^2)_1)))']\n",
      "Dataset feynman0 Final Expression:2.57\n",
      "Dataset 529_pollen Each Layer Expression:['cos(log(Abs(x3))^2)', 'cos((hat{h}^1)_1)', '(hat{h}^2)_2 - sin(log(Abs((hat{h}^2)_1)))']\n",
      "Dataset 529_pollen Final Expression:-0.61*sin(log(Abs(1.61*cos(0.19*cos(log(Abs(x3))^2) - 0.41) + 1.72))) + 0.85*cos(0.19*cos(log(Abs(x3))^2) - 0.41) - 0.3\n"
     ]
    }
   ],
   "source": [
    "import os\n",
    "import torch\n",
    "import sympy as sp\n",
    "from utils import load_pickle\n",
    "from load_data import load_sr_data\n",
    "from SRNet import srnets\n",
    "from neural_network import neural_networks\n",
    "\n",
    "def load_srnet(path_dir, net, args):\n",
    "    sr_param = torch.load(os.path.join(path_dir, \"sr_param\"))\n",
    "    _, srnet_class = srnets[args.srnet_name]\n",
    "    srnet = srnet_class(sr_param=sr_param, neural_network=net)\n",
    "    srnet.load_state_dict(torch.load(os.path.join(path_dir, \"srnet\")))\n",
    "    srnet.assign_genes(load_pickle(os.path.join(path_dir, \"srnet_genes\")))\n",
    "    return srnet\n",
    "\n",
    "event_dir = \"./output/compared\"\n",
    "net_dir = \"./output/MLPs\"\n",
    "datasets = [\"kkk0\",\"feynman0\",\"529_pollen\"]\n",
    "\n",
    "for dataset in datasets:\n",
    "    srnet_dir = os.path.join(event_dir, f\"mlp-{dataset}\")\n",
    "    net_path = os.path.join(net_dir, f\"MLP-{dataset}\", \"mlp\", \"mlp\")\n",
    "    args = torch.load(os.path.join(srnet_dir, \"args\"))\n",
    "    train_dataset, _ = load_sr_data(args.dataset)\n",
    "    n_inputs, n_outputs = train_dataset.X.size(-1), 1\n",
    "\n",
    "    # load net\n",
    "    nn_class = neural_networks[\"MLP\"]\n",
    "    net = nn_class(n_inputs, n_outputs)\n",
    "    net.load_state_dict(torch.load(net_path))\n",
    "    net.eval()\n",
    "\n",
    "    # load sr\n",
    "    srnet = load_srnet(srnet_dir, net, args)\n",
    "\n",
    "    exps = [layer.expr(mul_w=False)[0] for layer in srnet.explained_layers]\n",
    "    for i, expr in enumerate(exps):\n",
    "        expr = sp.simplify(expr).evalf(4)\n",
    "        exps[i] = str(expr.xreplace({n : round(n, 2) for n in expr.atoms(sp.Number)})).replace(\"**\", \"^\")\n",
    "    hidx = 1\n",
    "    for i, expr in enumerate(exps[1:]):\n",
    "        for xidx in range(16):\n",
    "            if f\"x{xidx}\" in expr:\n",
    "                exps[i+1] = exps[i+1].replace(f\"x{xidx}\", \"(hat{h}^\"+f\"{hidx})_{xidx}\")\n",
    "        hidx += 1\n",
    "    print(f'Dataset {dataset} Each Layer Expression:{exps}')\n",
    "    final_expr = srnet.expr()[0]\n",
    "    final_expr = sp.simplify(final_expr).evalf(4)\n",
    "    final_expr = str(final_expr.xreplace({n : round(n, 2) for n in final_expr.atoms(sp.Number)})).replace(\"**\", \"^\")\n",
    "    print(f'Dataset {dataset} Final Expression:{final_expr}')"
   ],
   "metadata": {
    "collapsed": false,
    "ExecuteTime": {
     "end_time": "2024-05-27T05:59:17.478377Z",
     "start_time": "2024-05-27T05:59:14.955656Z"
    }
   },
   "id": "21004ab8f904c637",
   "execution_count": 1
  },
  {
   "cell_type": "code",
   "outputs": [],
   "source": [],
   "metadata": {
    "collapsed": false,
    "ExecuteTime": {
     "end_time": "2024-05-27T05:59:17.480803Z",
     "start_time": "2024-05-27T05:59:17.479361Z"
    }
   },
   "id": "1b47c8ef38862dd9",
   "execution_count": 1
  }
 ],
 "metadata": {
  "kernelspec": {
   "display_name": "Python 3",
   "language": "python",
   "name": "python3"
  },
  "language_info": {
   "codemirror_mode": {
    "name": "ipython",
    "version": 2
   },
   "file_extension": ".py",
   "mimetype": "text/x-python",
   "name": "python",
   "nbconvert_exporter": "python",
   "pygments_lexer": "ipython2",
   "version": "2.7.6"
  }
 },
 "nbformat": 4,
 "nbformat_minor": 5
}
