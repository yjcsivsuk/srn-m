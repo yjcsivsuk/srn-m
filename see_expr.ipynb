{
 "cells": [
  {
   "cell_type": "markdown",
   "id": "188a5c2bc106f291",
   "metadata": {
    "collapsed": false
   },
   "source": [
    "查看使用SRNet-Modular得出的表达式"
   ]
  },
  {
   "cell_type": "code",
   "execution_count": 1,
   "id": "21004ab8f904c637",
   "metadata": {
    "ExecuteTime": {
     "end_time": "2024-05-27T05:59:17.478377Z",
     "start_time": "2024-05-27T05:59:14.955656Z"
    },
    "collapsed": false
   },
   "outputs": [],
   "source": [
    "import os\n",
    "import torch\n",
    "import sympy as sp\n",
    "from utils import load_pickle\n",
    "from load_data import load_sr_data\n",
    "from SRNet import srnets\n",
    "from neural_network import neural_networks\n",
    "\n",
    "def load_srnet(path_dir, net, args):\n",
    "    sr_param = torch.load(os.path.join(path_dir, \"sr_param\"))\n",
    "    _, srnet_class = srnets[args.srnet_name]\n",
    "    srnet = srnet_class(sr_param=sr_param, neural_network=net)\n",
    "    srnet.load_state_dict(torch.load(os.path.join(path_dir, \"srnet\")))\n",
    "    srnet.assign_genes(load_pickle(os.path.join(path_dir, \"srnet_genes\")))\n",
    "    return srnet\n",
    "\n",
    "event_dir = \"./output/compared\"\n",
    "net_dir = \"./output/MLPs\"\n",
    "datasets = [\"kkk0\",\"feynman0\",\"529_pollen\"]\n",
    "\n",
    "for dataset in datasets:\n",
    "    srnet_dir = os.path.join(event_dir, f\"mlp-{dataset}\")\n",
    "    net_path = os.path.join(net_dir, f\"MLP-{dataset}\", \"mlp\", \"mlp\")\n",
    "    args = torch.load(os.path.join(srnet_dir, \"args\"))\n",
    "    train_dataset, _ = load_sr_data(args.dataset)\n",
    "    n_inputs, n_outputs = train_dataset.X.size(-1), 1\n",
    "\n",
    "    # load net\n",
    "    nn_class = neural_networks[\"MLP\"]\n",
    "    net = nn_class(n_inputs, n_outputs)\n",
    "    net.load_state_dict(torch.load(net_path))\n",
    "    net.eval()\n",
    "\n",
    "    # load sr\n",
    "    srnet = load_srnet(srnet_dir, net, args)\n",
    "\n",
    "    exps = [layer.expr(mul_w=False)[0] for layer in srnet.explained_layers]\n",
    "    for i, expr in enumerate(exps):\n",
    "        expr = sp.simplify(expr).evalf(4)\n",
    "        exps[i] = str(expr.xreplace({n : round(n, 2) for n in expr.atoms(sp.Number)})).replace(\"**\", \"^\")\n",
    "    hidx = 1\n",
    "    for i, expr in enumerate(exps[1:]):\n",
    "        for xidx in range(16):\n",
    "            if f\"x{xidx}\" in expr:\n",
    "                exps[i+1] = exps[i+1].replace(f\"x{xidx}\", \"(hat{h}^\"+f\"{hidx})_{xidx}\")\n",
    "        hidx += 1\n",
    "    print(f'Dataset {dataset} Each Layer Expression:{exps}')\n",
    "    final_expr = srnet.expr()[0]\n",
    "    final_expr = sp.simplify(final_expr).evalf(4)\n",
    "    final_expr = str(final_expr.xreplace({n : round(n, 2) for n in final_expr.atoms(sp.Number)})).replace(\"**\", \"^\")\n",
    "    print(f'Dataset {dataset} Final Expression:{final_expr}')"
   ]
  },
  {
   "cell_type": "markdown",
   "id": "52e1cbaea0e71581",
   "metadata": {},
   "source": [
    "查看vKANPDE得到的关于图像的偏微分方程表达式"
   ]
  },
  {
   "cell_type": "code",
   "execution_count": 25,
   "id": "1b47c8ef38862dd9",
   "metadata": {
    "ExecuteTime": {
     "end_time": "2024-06-17T04:05:39.426689Z",
     "start_time": "2024-06-17T04:05:09.161526Z"
    },
    "collapsed": false
   },
   "outputs": [
    {
     "ename": "AttributeError",
     "evalue": "'KAN' object has no attribute 'acts'",
     "output_type": "error",
     "traceback": [
      "\u001b[0;31m---------------------------------------------------------------------------\u001b[0m",
      "\u001b[0;31mAttributeError\u001b[0m                            Traceback (most recent call last)",
      "Cell \u001b[0;32mIn[25], line 33\u001b[0m\n\u001b[1;32m     31\u001b[0m PDE \u001b[38;5;241m=\u001b[39m vKANPDE(param, with_fu\u001b[38;5;241m=\u001b[39m\u001b[38;5;28;01mFalse\u001b[39;00m)\n\u001b[1;32m     32\u001b[0m PDE\u001b[38;5;241m.\u001b[39mload_state_dict(torch\u001b[38;5;241m.\u001b[39mload(vKANPDE_path, map_location\u001b[38;5;241m=\u001b[39mtorch\u001b[38;5;241m.\u001b[39mdevice(\u001b[38;5;124m'\u001b[39m\u001b[38;5;124mcpu\u001b[39m\u001b[38;5;124m'\u001b[39m)))\n\u001b[0;32m---> 33\u001b[0m \u001b[43mPDE\u001b[49m\u001b[38;5;241;43m.\u001b[39;49m\u001b[43mexpr\u001b[49m\u001b[43m(\u001b[49m\u001b[43m)\u001b[49m\n",
      "File \u001b[0;32m~/Projects/srn-m/SRNet/vkan_models.py:97\u001b[0m, in \u001b[0;36mvKANPDE.expr\u001b[0;34m(self)\u001b[0m\n\u001b[1;32m     93\u001b[0m \u001b[38;5;28;01mdef\u001b[39;00m \u001b[38;5;21mexpr\u001b[39m(\u001b[38;5;28mself\u001b[39m):\n\u001b[1;32m     94\u001b[0m     \u001b[38;5;66;03m# self.pde_model.prune()\u001b[39;00m\n\u001b[1;32m     95\u001b[0m     \u001b[38;5;66;03m# function_set = ['sin', 'cos', 'x', 'x^2', 'log', 'abs']\u001b[39;00m\n\u001b[1;32m     96\u001b[0m     function_set \u001b[38;5;241m=\u001b[39m \u001b[38;5;28mself\u001b[39m\u001b[38;5;241m.\u001b[39msr_param\u001b[38;5;241m.\u001b[39mfunction_set\n\u001b[0;32m---> 97\u001b[0m     \u001b[38;5;28;43mself\u001b[39;49m\u001b[38;5;241;43m.\u001b[39;49m\u001b[43mpde_model\u001b[49m\u001b[38;5;241;43m.\u001b[39;49m\u001b[43mauto_symbolic\u001b[49m\u001b[43m(\u001b[49m\u001b[43mlib\u001b[49m\u001b[38;5;241;43m=\u001b[39;49m\u001b[43mfunction_set\u001b[49m\u001b[43m)\u001b[49m\n\u001b[1;32m     98\u001b[0m     \u001b[38;5;28;01mreturn\u001b[39;00m \u001b[38;5;28mself\u001b[39m\u001b[38;5;241m.\u001b[39mpde_model\u001b[38;5;241m.\u001b[39msymbolic_formula(var\u001b[38;5;241m=\u001b[39m[\u001b[38;5;124m'\u001b[39m\u001b[38;5;124mu_x\u001b[39m\u001b[38;5;124m'\u001b[39m, \u001b[38;5;124m'\u001b[39m\u001b[38;5;124mu_y\u001b[39m\u001b[38;5;124m'\u001b[39m, \u001b[38;5;124m'\u001b[39m\u001b[38;5;124mu_xy\u001b[39m\u001b[38;5;124m'\u001b[39m])[\u001b[38;5;241m0\u001b[39m][\u001b[38;5;241m0\u001b[39m]\n",
      "File \u001b[0;32m~/Projects/srn-m/vKAN/KAN.py:1215\u001b[0m, in \u001b[0;36mKAN.auto_symbolic\u001b[0;34m(self, a_range, b_range, lib, verbose)\u001b[0m\n\u001b[1;32m   1213\u001b[0m     \u001b[38;5;28mprint\u001b[39m(\u001b[38;5;124mf\u001b[39m\u001b[38;5;124m'\u001b[39m\u001b[38;5;124mskipping (\u001b[39m\u001b[38;5;132;01m{\u001b[39;00ml\u001b[38;5;132;01m}\u001b[39;00m\u001b[38;5;124m,\u001b[39m\u001b[38;5;132;01m{\u001b[39;00mi\u001b[38;5;132;01m}\u001b[39;00m\u001b[38;5;124m,\u001b[39m\u001b[38;5;132;01m{\u001b[39;00mj\u001b[38;5;132;01m}\u001b[39;00m\u001b[38;5;124m) since already symbolic\u001b[39m\u001b[38;5;124m'\u001b[39m)\n\u001b[1;32m   1214\u001b[0m \u001b[38;5;28;01melse\u001b[39;00m:\n\u001b[0;32m-> 1215\u001b[0m     name, fun, r2 \u001b[38;5;241m=\u001b[39m \u001b[38;5;28;43mself\u001b[39;49m\u001b[38;5;241;43m.\u001b[39;49m\u001b[43msuggest_symbolic\u001b[49m\u001b[43m(\u001b[49m\u001b[43ml\u001b[49m\u001b[43m,\u001b[49m\u001b[43m \u001b[49m\u001b[43mi\u001b[49m\u001b[43m,\u001b[49m\u001b[43m \u001b[49m\u001b[43mj\u001b[49m\u001b[43m,\u001b[49m\u001b[43m \u001b[49m\u001b[43ma_range\u001b[49m\u001b[38;5;241;43m=\u001b[39;49m\u001b[43ma_range\u001b[49m\u001b[43m,\u001b[49m\u001b[43m \u001b[49m\u001b[43mb_range\u001b[49m\u001b[38;5;241;43m=\u001b[39;49m\u001b[43mb_range\u001b[49m\u001b[43m,\u001b[49m\u001b[43m \u001b[49m\u001b[43mlib\u001b[49m\u001b[38;5;241;43m=\u001b[39;49m\u001b[43mlib\u001b[49m\u001b[43m,\u001b[49m\n\u001b[1;32m   1216\u001b[0m \u001b[43m                                          \u001b[49m\u001b[43mverbose\u001b[49m\u001b[38;5;241;43m=\u001b[39;49m\u001b[38;5;28;43;01mFalse\u001b[39;49;00m\u001b[43m)\u001b[49m\n\u001b[1;32m   1217\u001b[0m     \u001b[38;5;28mself\u001b[39m\u001b[38;5;241m.\u001b[39mfix_symbolic(l, i, j, name, verbose\u001b[38;5;241m=\u001b[39mverbose \u001b[38;5;241m>\u001b[39m \u001b[38;5;241m1\u001b[39m)\n\u001b[1;32m   1218\u001b[0m     \u001b[38;5;28;01mif\u001b[39;00m verbose \u001b[38;5;241m>\u001b[39m\u001b[38;5;241m=\u001b[39m \u001b[38;5;241m1\u001b[39m:\n",
      "File \u001b[0;32m~/Projects/srn-m/vKAN/KAN.py:1146\u001b[0m, in \u001b[0;36mKAN.suggest_symbolic\u001b[0;34m(self, l, i, j, a_range, b_range, lib, topk, verbose)\u001b[0m\n\u001b[1;32m   1143\u001b[0m         symbolic_lib[item] \u001b[38;5;241m=\u001b[39m SYMBOLIC_LIB[item]\n\u001b[1;32m   1145\u001b[0m \u001b[38;5;28;01mfor\u001b[39;00m (name, fun) \u001b[38;5;129;01min\u001b[39;00m symbolic_lib\u001b[38;5;241m.\u001b[39mitems():\n\u001b[0;32m-> 1146\u001b[0m     r2 \u001b[38;5;241m=\u001b[39m \u001b[38;5;28;43mself\u001b[39;49m\u001b[38;5;241;43m.\u001b[39;49m\u001b[43mfix_symbolic\u001b[49m\u001b[43m(\u001b[49m\u001b[43ml\u001b[49m\u001b[43m,\u001b[49m\u001b[43m \u001b[49m\u001b[43mi\u001b[49m\u001b[43m,\u001b[49m\u001b[43m \u001b[49m\u001b[43mj\u001b[49m\u001b[43m,\u001b[49m\u001b[43m \u001b[49m\u001b[43mname\u001b[49m\u001b[43m,\u001b[49m\u001b[43m \u001b[49m\u001b[43ma_range\u001b[49m\u001b[38;5;241;43m=\u001b[39;49m\u001b[43ma_range\u001b[49m\u001b[43m,\u001b[49m\u001b[43m \u001b[49m\u001b[43mb_range\u001b[49m\u001b[38;5;241;43m=\u001b[39;49m\u001b[43mb_range\u001b[49m\u001b[43m,\u001b[49m\u001b[43m \u001b[49m\u001b[43mverbose\u001b[49m\u001b[38;5;241;43m=\u001b[39;49m\u001b[38;5;28;43;01mFalse\u001b[39;49;00m\u001b[43m)\u001b[49m\n\u001b[1;32m   1147\u001b[0m     r2s\u001b[38;5;241m.\u001b[39mappend(r2\u001b[38;5;241m.\u001b[39mitem())\n\u001b[1;32m   1149\u001b[0m \u001b[38;5;28mself\u001b[39m\u001b[38;5;241m.\u001b[39munfix_symbolic(l, i, j)\n",
      "File \u001b[0;32m~/Projects/srn-m/vKAN/KAN.py:468\u001b[0m, in \u001b[0;36mKAN.fix_symbolic\u001b[0;34m(self, l, i, j, fun_name, fit_params_bool, a_range, b_range, verbose, random)\u001b[0m\n\u001b[1;32m    466\u001b[0m     \u001b[38;5;28;01mreturn\u001b[39;00m \u001b[38;5;28;01mNone\u001b[39;00m\n\u001b[1;32m    467\u001b[0m \u001b[38;5;28;01melse\u001b[39;00m:\n\u001b[0;32m--> 468\u001b[0m     x \u001b[38;5;241m=\u001b[39m \u001b[38;5;28;43mself\u001b[39;49m\u001b[38;5;241;43m.\u001b[39;49m\u001b[43macts\u001b[49m[l][:, i]\n\u001b[1;32m    469\u001b[0m     y \u001b[38;5;241m=\u001b[39m \u001b[38;5;28mself\u001b[39m\u001b[38;5;241m.\u001b[39mspline_postacts[l][:, j, i]\n\u001b[1;32m    470\u001b[0m     r2 \u001b[38;5;241m=\u001b[39m \u001b[38;5;28mself\u001b[39m\u001b[38;5;241m.\u001b[39msymbolic_fun[l]\u001b[38;5;241m.\u001b[39mfix_symbolic(i, j, fun_name, x, y, a_range\u001b[38;5;241m=\u001b[39ma_range, b_range\u001b[38;5;241m=\u001b[39mb_range,\n\u001b[1;32m    471\u001b[0m                                            verbose\u001b[38;5;241m=\u001b[39mverbose)\n",
      "File \u001b[0;32m~/anaconda3/envs/SRNet/lib/python3.9/site-packages/torch/nn/modules/module.py:1269\u001b[0m, in \u001b[0;36mModule.__getattr__\u001b[0;34m(self, name)\u001b[0m\n\u001b[1;32m   1267\u001b[0m     \u001b[38;5;28;01mif\u001b[39;00m name \u001b[38;5;129;01min\u001b[39;00m modules:\n\u001b[1;32m   1268\u001b[0m         \u001b[38;5;28;01mreturn\u001b[39;00m modules[name]\n\u001b[0;32m-> 1269\u001b[0m \u001b[38;5;28;01mraise\u001b[39;00m \u001b[38;5;167;01mAttributeError\u001b[39;00m(\u001b[38;5;124m\"\u001b[39m\u001b[38;5;124m'\u001b[39m\u001b[38;5;132;01m{}\u001b[39;00m\u001b[38;5;124m'\u001b[39m\u001b[38;5;124m object has no attribute \u001b[39m\u001b[38;5;124m'\u001b[39m\u001b[38;5;132;01m{}\u001b[39;00m\u001b[38;5;124m'\u001b[39m\u001b[38;5;124m\"\u001b[39m\u001b[38;5;241m.\u001b[39mformat(\n\u001b[1;32m   1270\u001b[0m     \u001b[38;5;28mtype\u001b[39m(\u001b[38;5;28mself\u001b[39m)\u001b[38;5;241m.\u001b[39m\u001b[38;5;18m__name__\u001b[39m, name))\n",
      "\u001b[0;31mAttributeError\u001b[0m: 'KAN' object has no attribute 'acts'"
     ]
    }
   ],
   "source": [
    "import os\n",
    "import torch\n",
    "from SRNet.vkan_models import vKANPDE\n",
    "from SRNet.parameters import vKANParameter\n",
    "class Args:\n",
    "    n_layer=5\n",
    "    function_set=None\n",
    "    width=[3,1,1]\n",
    "    grid=5\n",
    "    k=3\n",
    "    noise_scale=0.1\n",
    "    noise_scale_base=0.1\n",
    "    base_fun=torch.nn.SiLU()\n",
    "    symbolic_enabled=True\n",
    "    bias_trainable=True\n",
    "    grid_eps=0.02\n",
    "    grid_range=[-1, 1]\n",
    "    sp_trainable=True\n",
    "    sb_trainable=True\n",
    "    device='cpu'\n",
    "arg=Args()\n",
    "vKANPDE_path = \"output/find-pde_with_vkan/test/vKANPDE.pt\"\n",
    "param = vKANParameter(\n",
    "    n_inputs=5,  # x, y, t, dx?, dy?\n",
    "    n_outputs=1,  # u\n",
    "    n_eph=0,\n",
    "    args=arg,\n",
    "    function_set=None,\n",
    "    one_in_one_out=False\n",
    ")\n",
    "PDE = vKANPDE(param, with_fu=False)\n",
    "PDE.load_state_dict(torch.load(vKANPDE_path, map_location=torch.device('cpu')))\n",
    "PDE.expr()"
   ]
  },
  {
   "cell_type": "markdown",
   "id": "a5e4e933675f7303",
   "metadata": {},
   "source": [
    "查看EQLPDE得到的关于图像的偏微分方程表达式（原版论文）"
   ]
  },
  {
   "cell_type": "code",
   "execution_count": 17,
   "id": "3b47721ec5dd4f22",
   "metadata": {
    "ExecuteTime": {
     "end_time": "2024-06-22T10:17:11.558562Z",
     "start_time": "2024-06-22T10:17:11.316980Z"
    }
   },
   "outputs": [
    {
     "name": "stdout",
     "output_type": "stream",
     "text": [
      "Matrix([[-0.04*dx - 0.01*dy - 0.18*log(Abs(0.16*dx + 0.03*dy - 0.75)) + 0.01*sin(0.51*dx + 0.03*dy) + 0.14*cos(0.16*dy - 0.19) - 0.19]])\n"
     ]
    }
   ],
   "source": [
    "import torch\n",
    "import sympy as sp\n",
    "from SRNet.usr_models import EQLParameter, EQLPDE\n",
    "\n",
    "device=torch.device(\"cpu\")\n",
    "\n",
    "class Args:\n",
    "    n_layers = 5\n",
    "    def __init__(self, n_layers=5) -> None:\n",
    "        self.n_layers = n_layers\n",
    "\n",
    "args = Args()\n",
    "param = EQLParameter(\n",
    "    n_inputs=5, # x, y, t, dx?, dy?\n",
    "    n_outputs=1, # u\n",
    "    n_eph=0,\n",
    "    args=args,\n",
    "    function_set=[\"add\", \"mul\", \"sin\", \"cos\", \"square\", \"log\"]\n",
    ")\n",
    "\n",
    "pinn_eql = torch.load(\"output/find-pde/5layers-li0-clip0-lr5e-3-pw1.0-pew1.0-wd1e-5-w0.1/PDE.pt\", map_location=device)\n",
    "PDE = EQLPDE(param, with_fu=False)\n",
    "PDE.load_state_dict(pinn_eql)\n",
    "PDE.eval()\n",
    "\n",
    "expr = PDE.expr(input_vars=['dx', 'dy', 'dxdy'], sparse_filter=0.01)\n",
    "expr = sp.simplify(expr)\n",
    "expr = str(expr.xreplace({n : round(n, 2) for n in expr.atoms(sp.Number)})).replace(\"**\", \"^\")\n",
    "print(expr)  # 根据output/find_pde路径下的PDE.pt，得到图像的偏微分方程"
   ]
  },
  {
   "cell_type": "code",
   "execution_count": 10,
   "id": "e547adfe081c8798",
   "metadata": {
    "ExecuteTime": {
     "end_time": "2024-06-22T10:16:38.028147Z",
     "start_time": "2024-06-22T10:16:37.663474Z"
    }
   },
   "outputs": [
    {
     "name": "stdout",
     "output_type": "stream",
     "text": [
      "Matrix([[-0.04*dx - 0.01*dy - 0.18*log(Abs(0.16*dx + 0.03*dy - 0.75)) + 0.01*sin(0.33*dx - 0.01) + 0.14*cos(0.01*dx - 0.15*dy + 0.16) - 0.19]])\n"
     ]
    }
   ],
   "source": [
    "import torch\n",
    "import sympy as sp\n",
    "from SRNet.usr_models import EQLParameter, EQLPDE\n",
    "\n",
    "device=torch.device(\"cpu\")\n",
    "\n",
    "class Args:\n",
    "    n_layers = 5\n",
    "    def __init__(self, n_layers=5) -> None:\n",
    "        self.n_layers = n_layers\n",
    "\n",
    "args = Args()\n",
    "param = EQLParameter(\n",
    "    n_inputs=5, # x, y, t, dx?, dy?\n",
    "    n_outputs=1, # u\n",
    "    n_eph=0,\n",
    "    args=args,\n",
    "    function_set=[\"add\", \"mul\", \"sin\", \"cos\", \"square\", \"log\"]\n",
    ")\n",
    "\n",
    "pinn_eql = torch.load(\"output/find-pde/5layers-li1-clip0-lr5e-3-pw1.0-pew1.0-wd1e-5-w0.1/PDE.pt\", map_location=device)\n",
    "PDE = EQLPDE(param, with_fu=False)\n",
    "PDE.load_state_dict(pinn_eql)\n",
    "PDE.eval()\n",
    "\n",
    "expr = PDE.expr(input_vars=['dx', 'dy', 'dxdy'], sparse_filter=0.01)\n",
    "expr = sp.simplify(expr)\n",
    "expr = str(expr.xreplace({n : round(n, 2) for n in expr.atoms(sp.Number)})).replace(\"**\", \"^\")\n",
    "print(expr)  # 根据output/find_pde路径下的PDE.pt，得到图像的偏微分方程"
   ]
  },
  {
   "cell_type": "markdown",
   "id": "8e8c97aa5c119d2e",
   "metadata": {},
   "source": [
    "查看EQLPDE得到的关于图像的偏微分方程表达式（改进版）"
   ]
  },
  {
   "cell_type": "code",
   "execution_count": 11,
   "id": "f4f93bfa1bdaa35c",
   "metadata": {
    "ExecuteTime": {
     "end_time": "2024-06-22T10:16:38.134944Z",
     "start_time": "2024-06-22T10:16:38.028974Z"
    }
   },
   "outputs": [
    {
     "name": "stdout",
     "output_type": "stream",
     "text": [
      "Matrix([[-0.13*log(Abs(0.01*dx + 0.02*dy - 0.78)) - 0.03]])\n"
     ]
    }
   ],
   "source": [
    "import torch\n",
    "import sympy as sp\n",
    "from SRNet.usr_models import EQLParameter, EQLPDE\n",
    "\n",
    "device=torch.device(\"cpu\")\n",
    "\n",
    "class Args:\n",
    "    n_layers = 5\n",
    "    def __init__(self, n_layers=5) -> None:\n",
    "        self.n_layers = n_layers\n",
    "\n",
    "args = Args()\n",
    "param = EQLParameter(\n",
    "    n_inputs=5, # x, y, t, dx?, dy?\n",
    "    n_outputs=1, # u\n",
    "    n_eph=0,\n",
    "    args=args,\n",
    "    function_set=[\"add\", \"mul\", \"sin\", \"cos\", \"square\", \"log\"]\n",
    ")\n",
    "\n",
    "pinn_eql = torch.load(\"output/find-pde/5layers-li0-clip0-lr5e-3-pw1e-5-pew1.0-wd1e-5-w0.1/PDE.pt\", map_location=device)\n",
    "PDE = EQLPDE(param, with_fu=False)\n",
    "PDE.load_state_dict(pinn_eql)\n",
    "PDE.eval()\n",
    "\n",
    "expr = PDE.expr(input_vars=['dx', 'dy', 'dxdy'], sparse_filter=0.01)\n",
    "expr = sp.simplify(expr)\n",
    "expr = str(expr.xreplace({n : round(n, 2) for n in expr.atoms(sp.Number)})).replace(\"**\", \"^\")\n",
    "print(expr)  # 根据output/find_pde路径下的PDE.pt，得到图像的偏微分方程"
   ]
  },
  {
   "cell_type": "code",
   "execution_count": 12,
   "id": "1dde4eee4987a6ea",
   "metadata": {
    "ExecuteTime": {
     "end_time": "2024-06-22T10:16:38.300314Z",
     "start_time": "2024-06-22T10:16:38.136318Z"
    }
   },
   "outputs": [
    {
     "name": "stdout",
     "output_type": "stream",
     "text": [
      "Matrix([[-0.14*log(Abs(0.02*dx + 0.02*dy - 0.77)) + 0.15*cos(0.02*dx + 0.04*dy - 0.12) - 0.18]])\n"
     ]
    }
   ],
   "source": [
    "import torch\n",
    "import sympy as sp\n",
    "from SRNet.usr_models import EQLParameter, EQLPDE\n",
    "\n",
    "device=torch.device(\"cpu\")\n",
    "\n",
    "class Args:\n",
    "    n_layers = 5\n",
    "    def __init__(self, n_layers=5) -> None:\n",
    "        self.n_layers = n_layers\n",
    "\n",
    "args = Args()\n",
    "param = EQLParameter(\n",
    "    n_inputs=5, # x, y, t, dx?, dy?\n",
    "    n_outputs=1, # u\n",
    "    n_eph=0,\n",
    "    args=args,\n",
    "    function_set=[\"add\", \"mul\", \"sin\", \"cos\", \"square\", \"log\"]\n",
    ")\n",
    "\n",
    "pinn_eql = torch.load(\"output/find-pde/5layers-li1-clip0-lr5e-3-pw1e-5-pew1.0-wd1e-5-w0.1/PDE.pt\", map_location=device)\n",
    "PDE = EQLPDE(param, with_fu=False)\n",
    "PDE.load_state_dict(pinn_eql)\n",
    "PDE.eval()\n",
    "\n",
    "expr = PDE.expr(input_vars=['dx', 'dy', 'dxdy'], sparse_filter=0.01)\n",
    "expr = sp.simplify(expr)\n",
    "expr = str(expr.xreplace({n : round(n, 2) for n in expr.atoms(sp.Number)})).replace(\"**\", \"^\")\n",
    "print(expr)  # 根据output/find_pde路径下的PDE.pt，得到图像的偏微分方程"
   ]
  },
  {
   "cell_type": "markdown",
   "id": "69cd9c3425128ed1",
   "metadata": {},
   "source": [
    "# 原版\n",
    "\n",
    "第一层卷积：-0.04*dx - 0.01*dy - 0.18*log(Abs(0.16*dx + 0.03*dy - 0.75)) + 0.01*sin(0.51*dx + 0.03*dy) + 0.14*cos(0.16*dy - 0.19) - 0.19\n",
    "\n",
    "第二层卷积：-0.04*dx - 0.01*dy - 0.18*log(Abs(0.16*dx + 0.03*dy - 0.75)) + 0.01*sin(0.33*dx - 0.01) + 0.14*cos(0.01*dx - 0.15*dy + 0.16) - 0.19\n",
    "\n",
    "# 改进版\n",
    "\n",
    "第一层卷积：-0.13*log(Abs(0.01*dx + 0.02*dy - 0.78)) - 0.03\n",
    "\n",
    "第二层卷积：-0.14*log(Abs(0.02*dx + 0.02*dy - 0.77)) + 0.15*cos(0.02*dx + 0.04*dy - 0.12) - 0.18"
   ]
  },
  {
   "cell_type": "markdown",
   "id": "d42899ea6293260f",
   "metadata": {},
   "source": [
    "查看EQLPDE得到的关于图像的偏微分方程表达式（原版论文）"
   ]
  },
  {
   "cell_type": "code",
   "execution_count": 13,
   "id": "52882a18bd1af323",
   "metadata": {
    "ExecuteTime": {
     "end_time": "2024-06-22T10:16:38.717027Z",
     "start_time": "2024-06-22T10:16:38.301108Z"
    }
   },
   "outputs": [
    {
     "name": "stdout",
     "output_type": "stream",
     "text": [
      "Matrix([[-0.e-2*dx^2 - 0.08*dx - 0.01*dy - 0.22*log(Abs(0.19*dx + 0.01*dy - 0.69)) + 0.04*sin(0.63*dx + 0.03*dy - 0.03) + 0.16*cos(0.18*dy - 0.18) - 0.23]])\n"
     ]
    }
   ],
   "source": [
    "import torch\n",
    "import sympy as sp\n",
    "from SRNet.usr_models import EQLParameter, EQLPDE\n",
    "\n",
    "device=torch.device(\"cpu\")\n",
    "\n",
    "class Args:\n",
    "    n_layers = 5\n",
    "    def __init__(self, n_layers=5) -> None:\n",
    "        self.n_layers = n_layers\n",
    "\n",
    "args = Args()\n",
    "param = EQLParameter(\n",
    "    n_inputs=5, # x, y, t, dx?, dy?\n",
    "    n_outputs=1, # u\n",
    "    n_eph=0,\n",
    "    args=args,\n",
    "    function_set=[\"add\", \"mul\", \"sin\", \"cos\", \"square\", \"log\"]\n",
    ")\n",
    "\n",
    "pinn_eql = torch.load(\"output/find-pde/5layers-li0-clip0-lr3e-3-pw1.0-pew1.0-wd1e-5-w0.1/PDE.pt\", map_location=device)\n",
    "PDE = EQLPDE(param, with_fu=False)\n",
    "PDE.load_state_dict(pinn_eql)\n",
    "PDE.eval()\n",
    "\n",
    "expr = PDE.expr(input_vars=['dx', 'dy', 'dxdy'], sparse_filter=0.01)\n",
    "expr = sp.simplify(expr)\n",
    "expr = str(expr.xreplace({n : round(n, 2) for n in expr.atoms(sp.Number)})).replace(\"**\", \"^\")\n",
    "print(expr)  # 根据output/find_pde路径下的PDE.pt，得到图像的偏微分方程"
   ]
  },
  {
   "cell_type": "code",
   "execution_count": 14,
   "id": "e4d80aca54b8e10b",
   "metadata": {
    "ExecuteTime": {
     "end_time": "2024-06-22T10:16:39.050009Z",
     "start_time": "2024-06-22T10:16:38.717715Z"
    }
   },
   "outputs": [
    {
     "name": "stdout",
     "output_type": "stream",
     "text": [
      "Matrix([[-0.e-2*dx^2 - 0.07*dx - 0.01*dy - 0.22*log(Abs(0.16*dx + 0.03*dy - 0.7)) + 0.03*sin(0.5*dx + 0.05*dy - 0.04) + 0.15*cos(0.15*dy - 0.17) - 0.23]])\n"
     ]
    }
   ],
   "source": [
    "import torch\n",
    "import sympy as sp\n",
    "from SRNet.usr_models import EQLParameter, EQLPDE\n",
    "\n",
    "device=torch.device(\"cpu\")\n",
    "\n",
    "class Args:\n",
    "    n_layers = 5\n",
    "    def __init__(self, n_layers=5) -> None:\n",
    "        self.n_layers = n_layers\n",
    "\n",
    "args = Args()\n",
    "param = EQLParameter(\n",
    "    n_inputs=5, # x, y, t, dx?, dy?\n",
    "    n_outputs=1, # u\n",
    "    n_eph=0,\n",
    "    args=args,\n",
    "    function_set=[\"add\", \"mul\", \"sin\", \"cos\", \"square\", \"log\"]\n",
    ")\n",
    "\n",
    "pinn_eql = torch.load(\"output/find-pde/5layers-li1-clip0-lr3e-3-pw1.0-pew1.0-wd1e-5-w0.1/PDE.pt\", map_location=device)\n",
    "PDE = EQLPDE(param, with_fu=False)\n",
    "PDE.load_state_dict(pinn_eql)\n",
    "PDE.eval()\n",
    "\n",
    "expr = PDE.expr(input_vars=['dx', 'dy', 'dxdy'], sparse_filter=0.01)\n",
    "expr = sp.simplify(expr)\n",
    "expr = str(expr.xreplace({n : round(n, 2) for n in expr.atoms(sp.Number)})).replace(\"**\", \"^\")\n",
    "print(expr)  # 根据output/find_pde路径下的PDE.pt，得到图像的偏微分方程"
   ]
  },
  {
   "cell_type": "markdown",
   "id": "50e308c515859972",
   "metadata": {},
   "source": [
    "查看EQLPDE得到的关于图像的偏微分方程表达式（改进版）"
   ]
  },
  {
   "cell_type": "code",
   "execution_count": 19,
   "id": "3900b42f44bef9b6",
   "metadata": {
    "ExecuteTime": {
     "end_time": "2024-06-22T10:33:15.991863Z",
     "start_time": "2024-06-22T10:33:15.569072Z"
    }
   },
   "outputs": [
    {
     "name": "stdout",
     "output_type": "stream",
     "text": [
      "Matrix([[-0.e-2*dx - 0.e-2*dy - 0.2*log(Abs(0.02*dx + 0.02*dy - 0.71)) + 0.16*cos(0.02*dx + 0.03*dy - 0.15) - 0.22]])\n"
     ]
    }
   ],
   "source": [
    "import torch\n",
    "import sympy as sp\n",
    "from SRNet.usr_models import EQLParameter, EQLPDE\n",
    "\n",
    "device=torch.device(\"cpu\")\n",
    "\n",
    "class Args:\n",
    "    n_layers = 5\n",
    "    def __init__(self, n_layers=5) -> None:\n",
    "        self.n_layers = n_layers\n",
    "\n",
    "args = Args()\n",
    "param = EQLParameter(\n",
    "    n_inputs=5, # x, y, t, dx?, dy?\n",
    "    n_outputs=1, # u\n",
    "    n_eph=0,\n",
    "    args=args,\n",
    "    function_set=[\"add\", \"mul\", \"sin\", \"cos\", \"square\", \"log\"]\n",
    ")\n",
    "\n",
    "pinn_eql = torch.load(\"output/find-pde/5layers-li0-clip0-lr3e-3-pw1e-5-pew1.0-wd1e-5-w0.1/PDE.pt\", map_location=device)\n",
    "PDE = EQLPDE(param, with_fu=False)\n",
    "PDE.load_state_dict(pinn_eql)\n",
    "PDE.eval()\n",
    "\n",
    "expr = PDE.expr(input_vars=['dx', 'dy', 'dxdy'], sparse_filter=0.01)\n",
    "expr = sp.simplify(expr)\n",
    "expr = str(expr.xreplace({n : round(n, 2) for n in expr.atoms(sp.Number)})).replace(\"**\", \"^\")\n",
    "print(expr)  # 根据output/find_pde路径下的PDE.pt，得到图像的偏微分方程"
   ]
  },
  {
   "cell_type": "code",
   "execution_count": 18,
   "id": "81228a7cf4939b61",
   "metadata": {
    "ExecuteTime": {
     "end_time": "2024-06-22T10:20:52.323141Z",
     "start_time": "2024-06-22T10:20:51.928936Z"
    }
   },
   "outputs": [
    {
     "name": "stdout",
     "output_type": "stream",
     "text": [
      "Matrix([[-0.e-2*dx - 0.19*log(Abs(0.03*dx + 0.01*dy - 0.72)) + 0.15*cos(0.02*dx + 0.05*dy - 0.16) - 0.21]])\n"
     ]
    }
   ],
   "source": [
    "import torch\n",
    "import sympy as sp\n",
    "from SRNet.usr_models import EQLParameter, EQLPDE\n",
    "\n",
    "device=torch.device(\"cpu\")\n",
    "\n",
    "class Args:\n",
    "    n_layers = 5\n",
    "    def __init__(self, n_layers=5) -> None:\n",
    "        self.n_layers = n_layers\n",
    "\n",
    "args = Args()\n",
    "param = EQLParameter(\n",
    "    n_inputs=5, # x, y, t, dx?, dy?\n",
    "    n_outputs=1, # u\n",
    "    n_eph=0,\n",
    "    args=args,\n",
    "    function_set=[\"add\", \"mul\", \"sin\", \"cos\", \"square\", \"log\"]\n",
    ")\n",
    "\n",
    "pinn_eql = torch.load(\"output/find-pde/5layers-li1-clip0-lr3e-3-pw1e-5-pew1.0-wd1e-5-w0.1/PDE.pt\", map_location=device)\n",
    "PDE = EQLPDE(param, with_fu=False)\n",
    "PDE.load_state_dict(pinn_eql)\n",
    "PDE.eval()\n",
    "\n",
    "expr = PDE.expr(input_vars=['dx', 'dy', 'dxdy'], sparse_filter=0.01)\n",
    "expr = sp.simplify(expr)\n",
    "expr = str(expr.xreplace({n : round(n, 2) for n in expr.atoms(sp.Number)})).replace(\"**\", \"^\")\n",
    "print(expr)  # 根据output/find_pde路径下的PDE.pt，得到图像的偏微分方程"
   ]
  },
  {
   "cell_type": "markdown",
   "id": "dc7e6de9cae4875d",
   "metadata": {},
   "source": [
    "# 原版\n",
    "\n",
    "第一层卷积：-0.e-2*dx^2 - 0.08*dx - 0.01*dy - 0.22*log(Abs(0.19*dx + 0.01*dy - 0.69)) + 0.04*sin(0.63*dx + 0.03*dy - 0.03) + 0.16*cos(0.18*dy - 0.18) - 0.23\n",
    "\n",
    "第二层卷积：-0.e-2*dx^2 - 0.07*dx - 0.01*dy - 0.22*log(Abs(0.16*dx + 0.03*dy - 0.7)) + 0.03*sin(0.5*dx + 0.05*dy - 0.04) + 0.15*cos(0.15*dy - 0.17) - 0.23\n",
    "\n",
    "# 改进版\n",
    "\n",
    "第一层卷积：-0.e-2*dx - 0.e-2*dy - 0.2*log(Abs(0.02*dx + 0.02*dy - 0.71)) + 0.16*cos(0.02*dx + 0.03*dy - 0.15) - 0.22\n",
    "\n",
    "第二层卷积：-0.e-2*dx - 0.19*log(Abs(0.03*dx + 0.01*dy - 0.72)) + 0.15*cos(0.02*dx + 0.05*dy - 0.16) - 0.21"
   ]
  },
  {
   "cell_type": "markdown",
   "id": "b195c08c",
   "metadata": {},
   "source": [
    "将dxdy换成dt后的结果"
   ]
  },
  {
   "cell_type": "code",
   "execution_count": 6,
   "id": "f2b4d89d",
   "metadata": {},
   "outputs": [
    {
     "name": "stdout",
     "output_type": "stream",
     "text": [
      "layer 1, lr 5e-3: 0.13*log(Abs(0.02*dt + 0.01*dx + 0.02*dy - 0.75)) + 0.15*cos(0.01*dx - 0.08) - 0.19\n",
      "layer 1, lr 3e-3: 0.19*log(Abs(0.01*dx + 0.01*dy - 0.7)) + 0.16*cos(0.01*dt + 0.02*dx + 0.02*dy - 0.14) - 0.22\n",
      "layer 2, lr 5e-3: 0.e-2*dx - 0.18*log(Abs(0.02*dx - 0.72)) + 0.15*cos(0.03*dt + 0.02*dy - 0.14) - 0.21\n",
      "layer 2, lr 3e-3: 0.e-2*dx - 0.e-2*(0.12*dx + 0.04*dy - 1)^2 - 0.2*log(Abs(0.02*dx - 0.71)) - 0.06\n"
     ]
    }
   ],
   "source": [
    "import torch\n",
    "import sympy as sp\n",
    "from SRNet.usr_models import EQLParameter, EQLPDE\n",
    "\n",
    "device=torch.device(\"cpu\")\n",
    "\n",
    "class Args:\n",
    "    n_layers = 5\n",
    "    def __init__(self, n_layers=5) -> None:\n",
    "        self.n_layers = n_layers\n",
    "\n",
    "args = Args()\n",
    "param = EQLParameter(\n",
    "    n_inputs=5, # x, y, t, dx?, dy?\n",
    "    n_outputs=1, # u\n",
    "    n_eph=0,\n",
    "    args=args,\n",
    "    function_set=[\"add\", \"mul\", \"sin\", \"cos\", \"square\", \"log\"]\n",
    ")\n",
    "\n",
    "pinn_eql = torch.load(\"output/find-pde_dt/5layers-li0-clip0-lr5e-3-pw1e-5-pew1.0-wd1e-5-w0.1/PDE.pt\", map_location=device)\n",
    "PDE = EQLPDE(param, with_fu=False)\n",
    "PDE.load_state_dict(pinn_eql)\n",
    "PDE.eval()\n",
    "expr = PDE.expr(input_vars=['dx', 'dy', 'dt'], sparse_filter=0.01)\n",
    "expr = sp.simplify(expr)\n",
    "expr = str(expr.xreplace({n : round(n, 2) for n in expr.atoms(sp.Number)})).replace(\"**\", \"^\")\n",
    "print(f\"layer 1, lr 5e-3: {expr[10:-3]}\")\n",
    "\n",
    "# 换个实验结果看看表达式\n",
    "pinn_eql = torch.load(\"output/find-pde_dt/5layers-li0-clip0-lr3e-3-pw1e-5-pew1.0-wd1e-5-w0.1/PDE.pt\", map_location=device)\n",
    "PDE = EQLPDE(param, with_fu=False)\n",
    "PDE.load_state_dict(pinn_eql)\n",
    "PDE.eval()\n",
    "expr = PDE.expr(input_vars=['dx', 'dy', 'dt'], sparse_filter=0.01)\n",
    "expr = sp.simplify(expr)\n",
    "expr = str(expr.xreplace({n : round(n, 2) for n in expr.atoms(sp.Number)})).replace(\"**\", \"^\")\n",
    "print(f\"layer 1, lr 3e-3: {expr[10:-3]}\")\n",
    "\n",
    "# 换个实验结果看看表达式\n",
    "pinn_eql = torch.load(\"output/find-pde_dt/5layers-li1-clip0-lr5e-3-pw1e-5-pew1.0-wd1e-5-w0.1/PDE.pt\", map_location=device)\n",
    "PDE = EQLPDE(param, with_fu=False)\n",
    "PDE.load_state_dict(pinn_eql)\n",
    "PDE.eval()\n",
    "expr = PDE.expr(input_vars=['dx', 'dy', 'dt'], sparse_filter=0.01)\n",
    "expr = sp.simplify(expr)\n",
    "expr = str(expr.xreplace({n : round(n, 2) for n in expr.atoms(sp.Number)})).replace(\"**\", \"^\")\n",
    "print(f\"layer 2, lr 5e-3: {expr[10:-3]}\")\n",
    "\n",
    "# 换个实验结果看看表达式\n",
    "pinn_eql = torch.load(\"output/find-pde_dt/5layers-li1-clip0-lr3e-3-pw1e-5-pew1.0-wd1e-5-w0.1/PDE.pt\", map_location=device)\n",
    "PDE = EQLPDE(param, with_fu=False)\n",
    "PDE.load_state_dict(pinn_eql)\n",
    "PDE.eval()\n",
    "expr = PDE.expr(input_vars=['dx', 'dy', 'dt'], sparse_filter=0.01)\n",
    "expr = sp.simplify(expr)\n",
    "expr = str(expr.xreplace({n : round(n, 2) for n in expr.atoms(sp.Number)})).replace(\"**\", \"^\")\n",
    "print(f\"layer 2, lr 3e-3: {expr[10:-3]}\")\n"
   ]
  }
 ],
 "metadata": {
  "kernelspec": {
   "display_name": "Python 3",
   "language": "python",
   "name": "python3"
  },
  "language_info": {
   "codemirror_mode": {
    "name": "ipython",
    "version": 3
   },
   "file_extension": ".py",
   "mimetype": "text/x-python",
   "name": "python",
   "nbconvert_exporter": "python",
   "pygments_lexer": "ipython3",
   "version": "3.9.19"
  }
 },
 "nbformat": 4,
 "nbformat_minor": 5
}
