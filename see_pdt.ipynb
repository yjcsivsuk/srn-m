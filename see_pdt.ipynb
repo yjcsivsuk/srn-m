{
 "cells": [
  {
   "cell_type": "code",
   "outputs": [],
   "source": [
    "import os\n",
    "import torch\n",
    "\n",
    "pinn_train = True\n",
    "kan_train = False\n",
    "n_layer = 5\n",
    "layer_idx = 0\n",
    "optim = \"Adam\"\n",
    "lr = \"5e-3\"\n",
    "epoch = 1000"
   ],
   "metadata": {
    "collapsed": false,
    "ExecuteTime": {
     "end_time": "2024-06-06T09:55:06.476738Z",
     "start_time": "2024-06-06T09:55:05.697504Z"
    }
   },
   "id": "dd08a13fe786b680",
   "execution_count": 2
  },
  {
   "cell_type": "code",
   "outputs": [
    {
     "data": {
      "text/plain": "[tensor([ 0.0020,  0.0020,  0.0031,  ..., -0.8846,  0.0191,  0.0191],\n        requires_grad=True),\n tensor([ 0.0058,  0.0058,  0.0085,  ..., -0.5350,  0.0055,  0.0055],\n        requires_grad=True),\n tensor([0., 0., 0.,  ..., 0., 0., 0.], requires_grad=True)]"
     },
     "execution_count": 7,
     "metadata": {},
     "output_type": "execute_result"
    }
   ],
   "source": [
    "pdt_dir = f\"./output/sep-find-pde/pinn-{n_layer}layers-li{layer_idx}-opt{optim}-lr{lr}-ep{epoch}\"\n",
    "pdt = torch.load(os.path.join(pdt_dir, \"PDTs.pt\"), map_location=\"cpu\")\n",
    "pdt"
   ],
   "metadata": {
    "collapsed": false,
    "ExecuteTime": {
     "end_time": "2024-06-06T00:29:57.587710Z",
     "start_time": "2024-06-06T00:29:57.579876Z"
    }
   },
   "id": "8bd306e57f1b01c8",
   "execution_count": 7
  },
  {
   "cell_type": "code",
   "outputs": [
    {
     "data": {
      "text/plain": "[tensor([ 0.0660, -0.0192,  0.0030,  ..., -0.6512, -0.0078, -0.0078],\n        requires_grad=True),\n tensor([-0.0456, -0.0686, -0.0574,  ...,  0.0258, -0.0014, -0.0014],\n        requires_grad=True),\n tensor([0., 0., 0.,  ..., 0., 0., 0.], requires_grad=True)]"
     },
     "execution_count": 8,
     "metadata": {},
     "output_type": "execute_result"
    }
   ],
   "source": [
    "lr = \"3e-3\"\n",
    "pdt_dir = f\"./output/sep-find-pde/pinn-{n_layer}layers-li{layer_idx}-opt{optim}-lr{lr}-ep{epoch}\"\n",
    "pdt = torch.load(os.path.join(pdt_dir, \"PDTs.pt\"), map_location=\"cpu\")\n",
    "pdt"
   ],
   "metadata": {
    "collapsed": false,
    "ExecuteTime": {
     "end_time": "2024-06-06T00:38:46.571296Z",
     "start_time": "2024-06-06T00:38:46.564854Z"
    }
   },
   "id": "252d64749e202108",
   "execution_count": 8
  },
  {
   "cell_type": "code",
   "outputs": [
    {
     "data": {
      "text/plain": "[tensor([0.0104, 0.0104, 0.0092,  ..., 0.1066, 0.0000, 0.0000],\n        requires_grad=True),\n tensor([-0.0060, -0.0060, -0.0051,  ...,  0.1083,  0.0000,  0.0000],\n        requires_grad=True),\n tensor([0., 0., 0.,  ..., 0., 0., 0.], requires_grad=True)]"
     },
     "execution_count": 3,
     "metadata": {},
     "output_type": "execute_result"
    }
   ],
   "source": [
    "lr = \"5e-3\"\n",
    "epoch = 5000\n",
    "pdt_dir = f\"./output/sep-find-pde/pinn-{n_layer}layers-li{layer_idx}-opt{optim}-lr{lr}-ep{epoch}\"\n",
    "pdt = torch.load(os.path.join(pdt_dir, \"PDTs.pt\"), map_location=\"cpu\")\n",
    "pdt"
   ],
   "metadata": {
    "collapsed": false,
    "ExecuteTime": {
     "end_time": "2024-06-06T09:55:09.624028Z",
     "start_time": "2024-06-06T09:55:09.589837Z"
    }
   },
   "id": "7d579141c38ac6fb",
   "execution_count": 3
  },
  {
   "cell_type": "code",
   "outputs": [],
   "source": [],
   "metadata": {
    "collapsed": false
   },
   "id": "50159f52315807e4"
  }
 ],
 "metadata": {
  "kernelspec": {
   "display_name": "Python 3",
   "language": "python",
   "name": "python3"
  },
  "language_info": {
   "codemirror_mode": {
    "name": "ipython",
    "version": 2
   },
   "file_extension": ".py",
   "mimetype": "text/x-python",
   "name": "python",
   "nbconvert_exporter": "python",
   "pygments_lexer": "ipython2",
   "version": "2.7.6"
  }
 },
 "nbformat": 4,
 "nbformat_minor": 5
}
